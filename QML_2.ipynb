{
 "cells": [
  {
   "cell_type": "code",
   "execution_count": 1,
   "id": "c8282ab7",
   "metadata": {},
   "outputs": [],
   "source": [
    "# IMPORT \n",
    "import numpy as np\n",
    "import pandas as pd\n",
    "import seaborn as sns\n",
    "import qiskit as qk\n",
    "from qiskit.circuit.library import StatePreparation\n",
    "from qiskit.quantum_info import Statevector\n",
    "import matplotlib.pyplot as plt\n",
    "from sklearn.preprocessing import MinMaxScaler\n",
    "from sklearn.metrics import classification_report, confusion_matrix, accuracy_score, roc_auc_score\n",
    "data = pd.read_csv('flc_2013_2022_notime.csv', delimiter=';');"
   ]
  },
  {
   "cell_type": "code",
   "execution_count": null,
   "id": "b7140be4",
   "metadata": {},
   "outputs": [],
   "source": []
  },
  {
   "cell_type": "code",
   "execution_count": 2,
   "id": "15118968",
   "metadata": {},
   "outputs": [
    {
     "name": "stdout",
     "output_type": "stream",
     "text": [
      "open            0\n",
      "high            0\n",
      "low             0\n",
      "close           0\n",
      "Volume          0\n",
      "Volume MA      19\n",
      "manipulated     0\n",
      "dtype: int64\n"
     ]
    },
    {
     "data": {
      "text/html": [
       "<div>\n",
       "<style scoped>\n",
       "    .dataframe tbody tr th:only-of-type {\n",
       "        vertical-align: middle;\n",
       "    }\n",
       "\n",
       "    .dataframe tbody tr th {\n",
       "        vertical-align: top;\n",
       "    }\n",
       "\n",
       "    .dataframe thead th {\n",
       "        text-align: right;\n",
       "    }\n",
       "</style>\n",
       "<table border=\"1\" class=\"dataframe\">\n",
       "  <thead>\n",
       "    <tr style=\"text-align: right;\">\n",
       "      <th></th>\n",
       "      <th>open</th>\n",
       "      <th>high</th>\n",
       "      <th>low</th>\n",
       "      <th>close</th>\n",
       "      <th>Volume</th>\n",
       "      <th>Volume MA</th>\n",
       "      <th>manipulated</th>\n",
       "    </tr>\n",
       "  </thead>\n",
       "  <tbody>\n",
       "    <tr>\n",
       "      <th>0</th>\n",
       "      <td>4104.330818</td>\n",
       "      <td>4176.336622</td>\n",
       "      <td>4032.325014</td>\n",
       "      <td>4104.330818</td>\n",
       "      <td>6158668</td>\n",
       "      <td>11731589.55</td>\n",
       "      <td>0</td>\n",
       "    </tr>\n",
       "    <tr>\n",
       "      <th>1</th>\n",
       "      <td>4104.330818</td>\n",
       "      <td>4104.330818</td>\n",
       "      <td>3960.319210</td>\n",
       "      <td>4032.325014</td>\n",
       "      <td>4937960</td>\n",
       "      <td>11731589.55</td>\n",
       "      <td>0</td>\n",
       "    </tr>\n",
       "    <tr>\n",
       "      <th>2</th>\n",
       "      <td>4032.325014</td>\n",
       "      <td>4104.330818</td>\n",
       "      <td>3960.319210</td>\n",
       "      <td>3960.319210</td>\n",
       "      <td>2287341</td>\n",
       "      <td>11731589.55</td>\n",
       "      <td>0</td>\n",
       "    </tr>\n",
       "    <tr>\n",
       "      <th>3</th>\n",
       "      <td>3960.319210</td>\n",
       "      <td>4032.325014</td>\n",
       "      <td>3888.313406</td>\n",
       "      <td>3960.319210</td>\n",
       "      <td>2425496</td>\n",
       "      <td>11731589.55</td>\n",
       "      <td>0</td>\n",
       "    </tr>\n",
       "    <tr>\n",
       "      <th>4</th>\n",
       "      <td>3960.319210</td>\n",
       "      <td>3960.319210</td>\n",
       "      <td>3816.307603</td>\n",
       "      <td>3816.307603</td>\n",
       "      <td>3534864</td>\n",
       "      <td>11731589.55</td>\n",
       "      <td>0</td>\n",
       "    </tr>\n",
       "    <tr>\n",
       "      <th>...</th>\n",
       "      <td>...</td>\n",
       "      <td>...</td>\n",
       "      <td>...</td>\n",
       "      <td>...</td>\n",
       "      <td>...</td>\n",
       "      <td>...</td>\n",
       "      <td>...</td>\n",
       "    </tr>\n",
       "    <tr>\n",
       "      <th>2165</th>\n",
       "      <td>6810.000000</td>\n",
       "      <td>7280.000000</td>\n",
       "      <td>6700.000000</td>\n",
       "      <td>7280.000000</td>\n",
       "      <td>13263200</td>\n",
       "      <td>20884460.00</td>\n",
       "      <td>0</td>\n",
       "    </tr>\n",
       "    <tr>\n",
       "      <th>2166</th>\n",
       "      <td>7280.000000</td>\n",
       "      <td>7780.000000</td>\n",
       "      <td>7010.000000</td>\n",
       "      <td>7780.000000</td>\n",
       "      <td>17725500</td>\n",
       "      <td>21608325.00</td>\n",
       "      <td>0</td>\n",
       "    </tr>\n",
       "    <tr>\n",
       "      <th>2167</th>\n",
       "      <td>7900.000000</td>\n",
       "      <td>8320.000000</td>\n",
       "      <td>7830.000000</td>\n",
       "      <td>8250.000000</td>\n",
       "      <td>18449000</td>\n",
       "      <td>22442480.00</td>\n",
       "      <td>0</td>\n",
       "    </tr>\n",
       "    <tr>\n",
       "      <th>2168</th>\n",
       "      <td>8290.000000</td>\n",
       "      <td>8820.000000</td>\n",
       "      <td>8290.000000</td>\n",
       "      <td>8820.000000</td>\n",
       "      <td>18600200</td>\n",
       "      <td>23277460.00</td>\n",
       "      <td>0</td>\n",
       "    </tr>\n",
       "    <tr>\n",
       "      <th>2169</th>\n",
       "      <td>8210.000000</td>\n",
       "      <td>8210.000000</td>\n",
       "      <td>8210.000000</td>\n",
       "      <td>8210.000000</td>\n",
       "      <td>7645700</td>\n",
       "      <td>18640275.00</td>\n",
       "      <td>0</td>\n",
       "    </tr>\n",
       "  </tbody>\n",
       "</table>\n",
       "<p>2170 rows × 7 columns</p>\n",
       "</div>"
      ],
      "text/plain": [
       "             open         high          low        close    Volume  \\\n",
       "0     4104.330818  4176.336622  4032.325014  4104.330818   6158668   \n",
       "1     4104.330818  4104.330818  3960.319210  4032.325014   4937960   \n",
       "2     4032.325014  4104.330818  3960.319210  3960.319210   2287341   \n",
       "3     3960.319210  4032.325014  3888.313406  3960.319210   2425496   \n",
       "4     3960.319210  3960.319210  3816.307603  3816.307603   3534864   \n",
       "...           ...          ...          ...          ...       ...   \n",
       "2165  6810.000000  7280.000000  6700.000000  7280.000000  13263200   \n",
       "2166  7280.000000  7780.000000  7010.000000  7780.000000  17725500   \n",
       "2167  7900.000000  8320.000000  7830.000000  8250.000000  18449000   \n",
       "2168  8290.000000  8820.000000  8290.000000  8820.000000  18600200   \n",
       "2169  8210.000000  8210.000000  8210.000000  8210.000000   7645700   \n",
       "\n",
       "        Volume MA  manipulated  \n",
       "0     11731589.55            0  \n",
       "1     11731589.55            0  \n",
       "2     11731589.55            0  \n",
       "3     11731589.55            0  \n",
       "4     11731589.55            0  \n",
       "...           ...          ...  \n",
       "2165  20884460.00            0  \n",
       "2166  21608325.00            0  \n",
       "2167  22442480.00            0  \n",
       "2168  23277460.00            0  \n",
       "2169  18640275.00            0  \n",
       "\n",
       "[2170 rows x 7 columns]"
      ]
     },
     "execution_count": 2,
     "metadata": {},
     "output_type": "execute_result"
    }
   ],
   "source": [
    "# CHECK FOR MISSING VALUES AND FILLING \n",
    "print (data.isnull().sum())\n",
    "median = data['Volume MA'].median()\n",
    "data['Volume MA'].fillna(median, inplace=True)\n",
    "data"
   ]
  },
  {
   "cell_type": "code",
   "execution_count": 3,
   "id": "0e3ce35e",
   "metadata": {},
   "outputs": [],
   "source": [
    "#for randomized the data\n",
    "#data1 = data.sample(frac=1)\n",
    "#data1.head()"
   ]
  },
  {
   "cell_type": "code",
   "execution_count": null,
   "id": "e19abd49",
   "metadata": {},
   "outputs": [],
   "source": []
  },
  {
   "cell_type": "code",
   "execution_count": null,
   "id": "fc71bf09",
   "metadata": {},
   "outputs": [],
   "source": []
  },
  {
   "cell_type": "code",
   "execution_count": 4,
   "id": "42bf157b",
   "metadata": {
    "scrolled": true
   },
   "outputs": [
    {
     "data": {
      "image/png": "[encoded data removed]",
      "text/plain": [
       "<Figure size 640x480 with 2 Axes>"
      ]
     },
     "metadata": {},
     "output_type": "display_data"
    }
   ],
   "source": [
    "#CHCEK FOR CORRELATION \n",
    "corr_matrix = data.corr().abs()\n",
    "sns.heatmap(corr_matrix, annot=True)\n",
    "plt.show()"
   ]
  },
  {
   "cell_type": "code",
   "execution_count": 5,
   "id": "efc4aa6d",
   "metadata": {},
   "outputs": [],
   "source": [
    "#1. RemoveHigh Collinearity\n",
    "#select upper traingle of correlation matrix\n",
    "#upper = corr_matrix.where(np.triu(np.ones(corr_matrix.shape), k=1).astype(bool))\n",
    "# Find index of columns with correlation greater than 0.95\n",
    "#to_drop = [column for column in upper.columns if any(upper[column] > 0.95)]\n",
    "# drop the columns\n",
    "#data.drop(to_drop, axis=1, inplace=True)\n"
   ]
  },
  {
   "cell_type": "code",
   "execution_count": 6,
   "id": "4e0a7022",
   "metadata": {},
   "outputs": [],
   "source": [
    "#For Class Imbalance\n",
    "#1. Oversampling\n",
    "#print(\"Before OverSampling, counts of label '1': {}\".format(sum(train_labels == 1)))\n",
    "#print(\"Before OverSampling, counts of label '0': {} \\n\".format(sum(train_labels== 0)))\n",
    "\n",
    "#from imblearn.over_sampling import SMOTE\n",
    "#sm = SMOTE(random_state = 2)\n",
    "#train_features, train_labels = sm.fit_resample(train_features, train_labels.ravel())\n",
    "#print('After OverSampling, the shape of train_X: {}'.format(train_features.shape))\n",
    "#print('After OverSampling, the shape of train_y: {} \\n'.format(train_labels.shape))\n",
    "  \n",
    "#print(\"After OverSampling, counts of label '1': {}\".format(sum(train_labels == 1)))\n",
    "#print(\"After OverSampling, counts of label '0': {}\".format(sum(train_labels == 0)))\n",
    "#2. UnderSampling\n",
    "#print(\"Before UnderSampling, counts of label '1': {}\".format(sum(train_labels == 1)))\n",
    "#print(\"Before UnderSampling, counts of label '0': {} \\n\".format(sum(train_labels== 0)))\n",
    "\n",
    "#from imblearn.under_sampling import NearMiss\n",
    "#nr = NearMiss()  \n",
    "#print(\"Frauds in train before undersamling\", np.sum(train_labels))\n",
    "#train_features,train_labels = nr.fit_resample(train_features, train_labels.ravel())\n",
    "#print(\"Frauds in train after undersampling\", np.sum(train_labels))\n",
    "#print('After Undersampling, the shape of train_X: {}'.format(train_features.shape))\n",
    "#print('After Undersampling, the shape of train_y: {} \\n'.format(train_labels.shape))\n",
    "#print(\"After Undersampling, counts of label '1': {}\".format(sum(train_labels == 1)))\n",
    "#print(\"After Undersampling, counts of label '0': {}\".format(sum(train_labels == 0)))   \n",
    "    "
   ]
  },
  {
   "cell_type": "code",
   "execution_count": null,
   "id": "b8bfa584",
   "metadata": {},
   "outputs": [],
   "source": []
  },
  {
   "cell_type": "code",
   "execution_count": 7,
   "id": "834745a1",
   "metadata": {},
   "outputs": [
    {
     "name": "stdout",
     "output_type": "stream",
     "text": [
      "Number of normal examples = 2142\n",
      "Number of fraud examples = 28\n",
      "\n",
      "normal to fraud ratio in the whole data = 76.5\n",
      "number of examples =  56\n",
      "number of features =  6\n"
     ]
    }
   ],
   "source": [
    "#CHECK RATIO\n",
    "normal = data[data.manipulated==0] \n",
    "fraud = data[data.manipulated==1]  \n",
    "\n",
    "num_normal = normal.shape[0] \n",
    "num_fraud = fraud.shape[0]\n",
    "\n",
    "print(f\"Number of normal examples = {num_normal}\")\n",
    "print(f\"Number of fraud examples = {num_fraud}\\n\")\n",
    "\n",
    "ratio = num_normal/num_fraud\n",
    "\n",
    "print(f\"normal to fraud ratio in the whole data = {round(ratio,2)}\")\n",
    "\n",
    "# UNDERSAMPLING \n",
    "normal_fraud_ratio = 1                                      \n",
    "normal_sample = normal.sample(normal_fraud_ratio*num_fraud) \n",
    "\n",
    "\n",
    "\n",
    "sample = pd.concat([fraud, normal_sample], axis=0)  \n",
    "\n",
    "\n",
    "for i in range(100):\n",
    "    sample = np.random.permutation(sample)                  \n",
    "\n",
    "\n",
    "\n",
    "X, y = sample[:, :-1], sample[:, -1]\n",
    "\n",
    "num_examples, num_features = X.shape   \n",
    "print(\"number of examples = \", num_examples)\n",
    "print(\"number of features = \", num_features)\n"
   ]
  },
  {
   "cell_type": "code",
   "execution_count": 8,
   "id": "beb2a7ba",
   "metadata": {},
   "outputs": [],
   "source": [
    "f= X\n",
    "l= y\n",
    "features = f\n",
    "labels = l"
   ]
  },
  {
   "cell_type": "code",
   "execution_count": 9,
   "id": "06d2f6c5",
   "metadata": {},
   "outputs": [],
   "source": [
    "#NORMALIZIG\n",
    "from sklearn.preprocessing import MinMaxScaler\n",
    "\n",
    "features = MinMaxScaler().fit_transform(features)"
   ]
  },
  {
   "cell_type": "code",
   "execution_count": 10,
   "id": "29914453",
   "metadata": {},
   "outputs": [
    {
     "data": {
      "text/plain": [
       "<Axes: >"
      ]
     },
     "execution_count": 10,
     "metadata": {},
     "output_type": "execute_result"
    },
    {
     "data": {
      "image/png": "[encoded data removed]",
      "text/plain": [
       "<Figure size 600x600 with 1 Axes>"
      ]
     },
     "metadata": {},
     "output_type": "display_data"
    }
   ],
   "source": [
    "# REDUCTION FOR FEATURES \n",
    "from sklearn.decomposition import PCA\n",
    "\n",
    "features = PCA(n_components=2).fit_transform(features)\n",
    "\n",
    "plt.rcParams[\"figure.figsize\"] = (6, 6)\n",
    "sns.scatterplot(x=features[:, 0], y=features[:, 1], hue=labels, palette=\"tab10\")"
   ]
  },
  {
   "cell_type": "code",
   "execution_count": 11,
   "id": "26276c89",
   "metadata": {},
   "outputs": [],
   "source": [
    "# For spliting data\n",
    "from sklearn.model_selection import train_test_split\n",
    "\n",
    "train_features, test_features, train_labels, test_labels = train_test_split(\n",
    "    features, labels, train_size=0.8)"
   ]
  },
  {
   "cell_type": "code",
   "execution_count": null,
   "id": "867f5c5f",
   "metadata": {},
   "outputs": [],
   "source": []
  },
  {
   "cell_type": "code",
   "execution_count": 12,
   "id": "28855657",
   "metadata": {},
   "outputs": [],
   "source": [
    "# Encoding \n",
    "def predict(theta, data):\n",
    "    outputs = [] # storing the measured value \n",
    "    for x in data:\n",
    "        data_register = qk.QuantumRegister(2) \n",
    "        classical_register = qk.ClassicalRegister(1)\n",
    "        qc = qk.QuantumCircuit(data_register, classical_register)\n",
    "        qc.h(data_register[0])\n",
    "        qc.h(data_register[1])\n",
    "        qc.rz(2*np.pi*x[0],data_register[0])\n",
    "        qc.rz(2*np.pi*x[1],data_register[1])\n",
    "        qc.ry(theta[0], data_register[0])\n",
    "        qc.ry(theta[1], data_register[1])\n",
    "        qc.cx(data_register[0], data_register[1])\n",
    "        qc.ry(theta[2], data_register[0])\n",
    "        qc.ry(theta[3], data_register[1])\n",
    "        qc.cx(data_register[0], data_register[1])\n",
    "        qc.ry(theta[4], data_register[0])\n",
    "        qc.ry(theta[5], data_register[1])\n",
    "        qc.cx(data_register[0], data_register[1])\n",
    "        qc.ry(theta[6], data_register[0])\n",
    "        qc.ry(theta[7], data_register[1])\n",
    "        qc.cx(data_register[0], data_register[1])\n",
    "        qc.ry(theta[8], data_register[1])\n",
    "        qc.measure(data_register[-1],classical_register[0]) # measuring the qubut in 1> ket state \n",
    "        shots=1000\n",
    "        job = qk.execute(qc,\n",
    "                backend=qk.Aer.get_backend('qasm_simulator'),\n",
    "                shots=shots,\n",
    "                seed_simulator=42\n",
    "                )\n",
    "        results = job.result()\n",
    "        results = results.get_counts(qc)\n",
    "        prediction = 0\n",
    "        for key,value in results.items():\n",
    "            if key == '1': \n",
    "                prediction += value      \n",
    "        prediction/=shots # probability that this qubit is in the 1> state \n",
    "        outputs.append(prediction)\n",
    "    return np.array(outputs)"
   ]
  },
  {
   "cell_type": "code",
   "execution_count": null,
   "id": "d48d0f8e",
   "metadata": {
    "scrolled": true
   },
   "outputs": [],
   "source": []
  },
  {
   "cell_type": "code",
   "execution_count": 13,
   "id": "1c7ba4d5",
   "metadata": {},
   "outputs": [
    {
     "data": {
      "text/plain": [
       "array([2.3772868 , 6.1128765 , 2.18416709, 0.64687198, 2.39968287,\n",
       "       1.61459633, 3.15127358, 1.84848072, 0.79429986])"
      ]
     },
     "execution_count": 13,
     "metadata": {},
     "output_type": "execute_result"
    }
   ],
   "source": [
    "n_params = 9 # no of parameters for 'ansatz'\n",
    "theta = 2*np.pi*np.random.uniform(size=n_params)\n",
    "theta"
   ]
  },
  {
   "cell_type": "code",
   "execution_count": 14,
   "id": "dae7b0e8",
   "metadata": {},
   "outputs": [
    {
     "name": "stdout",
     "output_type": "stream",
     "text": [
      "[0.202 0.668 0.77  0.459 0.54  0.477 0.255 0.521 0.281 0.299 0.772 0.699\n",
      " 0.699 0.747 0.489 0.673 0.638 0.758 0.477 0.489 0.195 0.792 0.673 0.623\n",
      " 0.526 0.632 0.44  0.78  0.765 0.73  0.39  0.4   0.703 0.258 0.748 0.662\n",
      " 0.619 0.672 0.782 0.611 0.271 0.75  0.473 0.482]\n"
     ]
    }
   ],
   "source": [
    "lr = 1 # learning rate\n",
    "epochs = 2\n",
    "loss = []\n",
    "for i in range(epochs):\n",
    "    y_pred = predict(theta, train_features)\n",
    "    n_samples = train_features.shape[0] # no of samples in features \n",
    "    n_theta = theta.shape[0]            # no of parameters \n",
    "    shift = np.pi/2                     # for shifting parameter by a value of np.pi/2\n",
    "    cross_entropy_deriv = (y_pred - train_labels)/(y_pred*(1-y_pred)) \n",
    "    grad = np.zeros((n_theta, n_samples))             # empty grad array for features length and theta length\n",
    " \n",
    "    for i in range(n_theta):\n",
    "        #parameter shift rule\n",
    "        shift_vect = np.array([shift if j==i else 0 for j in range(n_theta)]) \n",
    "        shift_right = theta + shift_vect\n",
    "        shift_left = theta - shift_vect\n",
    "        \n",
    "        expectation_right = predict(shift_right, train_features)\n",
    "        expectation_left = predict(shift_left, train_features)\n",
    "\n",
    "        grad[i] = expectation_right - expectation_left\n",
    "    \n",
    "    loss += -train_labels.dot(np.log(y_pred))\n",
    "    gradients = 1.0/n_samples * grad.dot(cross_entropy_deriv) \n",
    "    # derivative of the loss with respect to the parameters \n",
    "    theta= theta - lr*gradients\n",
    "    #accuracy = np.mean(np.round(y_pred).astype(int) == train_labels)\n",
    "print (y_pred)"
   ]
  },
  {
   "cell_type": "code",
   "execution_count": 15,
   "id": "46ffb4aa",
   "metadata": {},
   "outputs": [
    {
     "data": {
      "text/plain": [
       "array([0, 1, 1, 0, 1, 0, 0, 1, 0, 0, 1, 1, 1, 1, 0, 1, 1, 1, 0, 0, 0, 1,\n",
       "       1, 1, 1, 1, 0, 1, 1, 1, 0, 0, 1, 0, 1, 1, 1, 1, 1, 1, 0, 1, 0, 0])"
      ]
     },
     "execution_count": 15,
     "metadata": {},
     "output_type": "execute_result"
    }
   ],
   "source": [
    "y_train_pred = np.round(y_pred).astype(int)\n",
    "y_train_pred"
   ]
  },
  {
   "cell_type": "code",
   "execution_count": 16,
   "id": "9dfaf2b4",
   "metadata": {},
   "outputs": [
    {
     "name": "stdout",
     "output_type": "stream",
     "text": [
      "[0.748 0.262 0.757 0.363 0.255 0.875 0.638 0.749 0.666 0.073 0.636 0.176]\n"
     ]
    }
   ],
   "source": [
    "lr = 1     # learning rate\n",
    "epochs = 2 \n",
    "loss_1=[]\n",
    "for i in range(epochs):\n",
    "    y_pred = predict(theta, test_features)\n",
    "    n_samples = test_features.shape[0]   # no of samples in features \n",
    "    n_theta = theta.shape[0]    # no of parameters \n",
    "    shift = np.pi/2             # for shifting parameter by a value of np.pi/2\n",
    "    cross_entropy_deriv = (y_pred - test_labels)/(y_pred*(1-y_pred))\n",
    "    grad = np.zeros((n_theta, n_samples))   # empty grad array for features length and theta length\n",
    "    \n",
    "    for i in range(n_theta):\n",
    "        #parameter shift rule\n",
    "        shift_vect = np.array([shift if j==i else 0 for j in range(n_theta)])\n",
    "        shift_right = theta + shift_vect\n",
    "        shift_left = theta - shift_vect\n",
    "        \n",
    "        expectation_right = predict(shift_right, test_features)\n",
    "        expectation_left = predict(shift_left, test_features)\n",
    "\n",
    "        grad[i] = expectation_right - expectation_left\n",
    "    loss_1 += -test_labels.dot(np.log(y_pred))\n",
    "    gradients = 1.0/n_samples * grad.dot(cross_entropy_deriv) \n",
    "    # derivative of the loss with respect to the parameters \n",
    "    theta= theta - lr*gradients\n",
    "    #accuracy = np.mean(np.round(y_pred).astype(int) == test_labels)\n",
    "print (y_pred)"
   ]
  },
  {
   "cell_type": "code",
   "execution_count": 17,
   "id": "1fa81fed",
   "metadata": {},
   "outputs": [
    {
     "data": {
      "text/plain": [
       "array([1, 0, 1, 0, 0, 1, 1, 1, 1, 0, 1, 0])"
      ]
     },
     "execution_count": 17,
     "metadata": {},
     "output_type": "execute_result"
    }
   ],
   "source": [
    "y_test_pred = np.round(y_pred).astype(int)\n",
    "y_test_pred"
   ]
  },
  {
   "cell_type": "code",
   "execution_count": 18,
   "id": "988582c4",
   "metadata": {},
   "outputs": [
    {
     "name": "stdout",
     "output_type": "stream",
     "text": [
      "[[13  8]\n",
      " [ 4 19]] = confusion matrix for train set \n",
      "\n",
      "[[5 2]\n",
      " [0 5]] = confusion matrix for test set \n",
      " \n",
      "0.86 = roc_auc_score for test set \n",
      "\n"
     ]
    }
   ],
   "source": [
    "print(confusion_matrix(train_labels, y_train_pred), \"= confusion matrix for train set \\n\")\n",
    "print(confusion_matrix(test_labels, y_test_pred), \"= confusion matrix for test set \\n \")\n",
    "print(round(roc_auc_score(test_labels, y_test_pred),2), \"= roc_auc_score for test set \\n\")"
   ]
  },
  {
   "cell_type": "code",
   "execution_count": 19,
   "id": "cf50f884",
   "metadata": {},
   "outputs": [
    {
     "name": "stdout",
     "output_type": "stream",
     "text": [
      "              precision    recall  f1-score   support\n",
      "\n",
      "         0.0       0.76      0.62      0.68        21\n",
      "         1.0       0.70      0.83      0.76        23\n",
      "\n",
      "    accuracy                           0.73        44\n",
      "   macro avg       0.73      0.72      0.72        44\n",
      "weighted avg       0.73      0.73      0.72        44\n",
      "\n"
     ]
    }
   ],
   "source": [
    "print(classification_report(train_labels, y_train_pred))"
   ]
  },
  {
   "cell_type": "code",
   "execution_count": 20,
   "id": "3a8d38e4",
   "metadata": {},
   "outputs": [
    {
     "name": "stdout",
     "output_type": "stream",
     "text": [
      "              precision    recall  f1-score   support\n",
      "\n",
      "         0.0       1.00      0.71      0.83         7\n",
      "         1.0       0.71      1.00      0.83         5\n",
      "\n",
      "    accuracy                           0.83        12\n",
      "   macro avg       0.86      0.86      0.83        12\n",
      "weighted avg       0.88      0.83      0.83        12\n",
      "\n"
     ]
    }
   ],
   "source": [
    "print(classification_report(test_labels, y_test_pred))"
   ]
  },
  {
   "cell_type": "code",
   "execution_count": null,
   "id": "6eeb6cfa",
   "metadata": {},
   "outputs": [],
   "source": []
  }
 ],
 "metadata": {
  "kernelspec": {
   "display_name": "Python 3 (ipykernel)",
   "language": "python",
   "name": "python3"
  },
  "language_info": {
   "codemirror_mode": {
    "name": "ipython",
    "version": 3
   },
   "file_extension": ".py",
   "mimetype": "text/x-python",
   "name": "python",
   "nbconvert_exporter": "python",
   "pygments_lexer": "ipython3",
   "version": "3.11.4"
  }
 },
 "nbformat": 4,
 "nbformat_minor": 5
}
