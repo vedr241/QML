{
 "cells": [
  {
   "cell_type": "code",
   "execution_count": 127,
   "id": "c8282ab7",
   "metadata": {},
   "outputs": [],
   "source": [
    "# IMPORT \n",
    "import numpy as np\n",
    "import pandas as pd\n",
    "import seaborn as sns\n",
    "import qiskit as qk\n",
    "from qiskit.circuit.library import StatePreparation\n",
    "from qiskit.quantum_info import Statevector\n",
    "import matplotlib.pyplot as plt\n",
    "import time, copy, warnings\n",
    "from sklearn.preprocessing import MinMaxScaler\n",
    "from sklearn.metrics import classification_report, confusion_matrix, accuracy_score, roc_auc_score\n",
    "data = pd.read_csv('flc_2013_2022_notime.csv', delimiter=';');"
   ]
  },
  {
   "cell_type": "code",
   "execution_count": null,
   "id": "b7140be4",
   "metadata": {},
   "outputs": [],
   "source": []
  },
  {
   "cell_type": "code",
   "execution_count": 128,
   "id": "15118968",
   "metadata": {},
   "outputs": [
    {
     "name": "stdout",
     "output_type": "stream",
     "text": [
      "open            0\n",
      "high            0\n",
      "low             0\n",
      "close           0\n",
      "Volume          0\n",
      "Volume MA      19\n",
      "manipulated     0\n",
      "dtype: int64\n"
     ]
    },
    {
     "data": {
      "text/html": [
       "<div>\n",
       "<style scoped>\n",
       "    .dataframe tbody tr th:only-of-type {\n",
       "        vertical-align: middle;\n",
       "    }\n",
       "\n",
       "    .dataframe tbody tr th {\n",
       "        vertical-align: top;\n",
       "    }\n",
       "\n",
       "    .dataframe thead th {\n",
       "        text-align: right;\n",
       "    }\n",
       "</style>\n",
       "<table border=\"1\" class=\"dataframe\">\n",
       "  <thead>\n",
       "    <tr style=\"text-align: right;\">\n",
       "      <th></th>\n",
       "      <th>open</th>\n",
       "      <th>high</th>\n",
       "      <th>low</th>\n",
       "      <th>close</th>\n",
       "      <th>Volume</th>\n",
       "      <th>Volume MA</th>\n",
       "      <th>manipulated</th>\n",
       "    </tr>\n",
       "  </thead>\n",
       "  <tbody>\n",
       "    <tr>\n",
       "      <th>0</th>\n",
       "      <td>4104.330818</td>\n",
       "      <td>4176.336622</td>\n",
       "      <td>4032.325014</td>\n",
       "      <td>4104.330818</td>\n",
       "      <td>6158668</td>\n",
       "      <td>11731589.55</td>\n",
       "      <td>0</td>\n",
       "    </tr>\n",
       "    <tr>\n",
       "      <th>1</th>\n",
       "      <td>4104.330818</td>\n",
       "      <td>4104.330818</td>\n",
       "      <td>3960.319210</td>\n",
       "      <td>4032.325014</td>\n",
       "      <td>4937960</td>\n",
       "      <td>11731589.55</td>\n",
       "      <td>0</td>\n",
       "    </tr>\n",
       "    <tr>\n",
       "      <th>2</th>\n",
       "      <td>4032.325014</td>\n",
       "      <td>4104.330818</td>\n",
       "      <td>3960.319210</td>\n",
       "      <td>3960.319210</td>\n",
       "      <td>2287341</td>\n",
       "      <td>11731589.55</td>\n",
       "      <td>0</td>\n",
       "    </tr>\n",
       "    <tr>\n",
       "      <th>3</th>\n",
       "      <td>3960.319210</td>\n",
       "      <td>4032.325014</td>\n",
       "      <td>3888.313406</td>\n",
       "      <td>3960.319210</td>\n",
       "      <td>2425496</td>\n",
       "      <td>11731589.55</td>\n",
       "      <td>0</td>\n",
       "    </tr>\n",
       "    <tr>\n",
       "      <th>4</th>\n",
       "      <td>3960.319210</td>\n",
       "      <td>3960.319210</td>\n",
       "      <td>3816.307603</td>\n",
       "      <td>3816.307603</td>\n",
       "      <td>3534864</td>\n",
       "      <td>11731589.55</td>\n",
       "      <td>0</td>\n",
       "    </tr>\n",
       "    <tr>\n",
       "      <th>...</th>\n",
       "      <td>...</td>\n",
       "      <td>...</td>\n",
       "      <td>...</td>\n",
       "      <td>...</td>\n",
       "      <td>...</td>\n",
       "      <td>...</td>\n",
       "      <td>...</td>\n",
       "    </tr>\n",
       "    <tr>\n",
       "      <th>2165</th>\n",
       "      <td>6810.000000</td>\n",
       "      <td>7280.000000</td>\n",
       "      <td>6700.000000</td>\n",
       "      <td>7280.000000</td>\n",
       "      <td>13263200</td>\n",
       "      <td>20884460.00</td>\n",
       "      <td>0</td>\n",
       "    </tr>\n",
       "    <tr>\n",
       "      <th>2166</th>\n",
       "      <td>7280.000000</td>\n",
       "      <td>7780.000000</td>\n",
       "      <td>7010.000000</td>\n",
       "      <td>7780.000000</td>\n",
       "      <td>17725500</td>\n",
       "      <td>21608325.00</td>\n",
       "      <td>0</td>\n",
       "    </tr>\n",
       "    <tr>\n",
       "      <th>2167</th>\n",
       "      <td>7900.000000</td>\n",
       "      <td>8320.000000</td>\n",
       "      <td>7830.000000</td>\n",
       "      <td>8250.000000</td>\n",
       "      <td>18449000</td>\n",
       "      <td>22442480.00</td>\n",
       "      <td>0</td>\n",
       "    </tr>\n",
       "    <tr>\n",
       "      <th>2168</th>\n",
       "      <td>8290.000000</td>\n",
       "      <td>8820.000000</td>\n",
       "      <td>8290.000000</td>\n",
       "      <td>8820.000000</td>\n",
       "      <td>18600200</td>\n",
       "      <td>23277460.00</td>\n",
       "      <td>0</td>\n",
       "    </tr>\n",
       "    <tr>\n",
       "      <th>2169</th>\n",
       "      <td>8210.000000</td>\n",
       "      <td>8210.000000</td>\n",
       "      <td>8210.000000</td>\n",
       "      <td>8210.000000</td>\n",
       "      <td>7645700</td>\n",
       "      <td>18640275.00</td>\n",
       "      <td>0</td>\n",
       "    </tr>\n",
       "  </tbody>\n",
       "</table>\n",
       "<p>2170 rows × 7 columns</p>\n",
       "</div>"
      ],
      "text/plain": [
       "             open         high          low        close    Volume  \\\n",
       "0     4104.330818  4176.336622  4032.325014  4104.330818   6158668   \n",
       "1     4104.330818  4104.330818  3960.319210  4032.325014   4937960   \n",
       "2     4032.325014  4104.330818  3960.319210  3960.319210   2287341   \n",
       "3     3960.319210  4032.325014  3888.313406  3960.319210   2425496   \n",
       "4     3960.319210  3960.319210  3816.307603  3816.307603   3534864   \n",
       "...           ...          ...          ...          ...       ...   \n",
       "2165  6810.000000  7280.000000  6700.000000  7280.000000  13263200   \n",
       "2166  7280.000000  7780.000000  7010.000000  7780.000000  17725500   \n",
       "2167  7900.000000  8320.000000  7830.000000  8250.000000  18449000   \n",
       "2168  8290.000000  8820.000000  8290.000000  8820.000000  18600200   \n",
       "2169  8210.000000  8210.000000  8210.000000  8210.000000   7645700   \n",
       "\n",
       "        Volume MA  manipulated  \n",
       "0     11731589.55            0  \n",
       "1     11731589.55            0  \n",
       "2     11731589.55            0  \n",
       "3     11731589.55            0  \n",
       "4     11731589.55            0  \n",
       "...           ...          ...  \n",
       "2165  20884460.00            0  \n",
       "2166  21608325.00            0  \n",
       "2167  22442480.00            0  \n",
       "2168  23277460.00            0  \n",
       "2169  18640275.00            0  \n",
       "\n",
       "[2170 rows x 7 columns]"
      ]
     },
     "execution_count": 128,
     "metadata": {},
     "output_type": "execute_result"
    }
   ],
   "source": [
    "# CHECK FOR MISSING VALUES AND FILLING \n",
    "print (data.isnull().sum())\n",
    "median = data['Volume MA'].median()\n",
    "data['Volume MA'].fillna(median, inplace=True)\n",
    "data"
   ]
  },
  {
   "cell_type": "code",
   "execution_count": 129,
   "id": "0e3ce35e",
   "metadata": {},
   "outputs": [],
   "source": [
    "#for randomized the data\n",
    "#data1 = data.sample(frac=1)\n",
    "#data1.head()"
   ]
  },
  {
   "cell_type": "code",
   "execution_count": null,
   "id": "e19abd49",
   "metadata": {},
   "outputs": [],
   "source": []
  },
  {
   "cell_type": "code",
   "execution_count": null,
   "id": "fc71bf09",
   "metadata": {},
   "outputs": [],
   "source": []
  },
  {
   "cell_type": "code",
   "execution_count": 130,
   "id": "42bf157b",
   "metadata": {
    "scrolled": true
   },
   "outputs": [
    {
     "data": {
      "image/png": "[encoded data removed]",
      "text/plain": [
       "<Figure size 600x600 with 2 Axes>"
      ]
     },
     "metadata": {},
     "output_type": "display_data"
    }
   ],
   "source": [
    "#CHCEK FOR CORRELATION \n",
    "corr_matrix = data.corr().abs()\n",
    "sns.heatmap(corr_matrix, annot=True)\n",
    "plt.show()"
   ]
  },
  {
   "cell_type": "code",
   "execution_count": 131,
   "id": "efc4aa6d",
   "metadata": {},
   "outputs": [],
   "source": [
    "#1. RemoveHigh Collinearity\n",
    "#select upper traingle of correlation matrix\n",
    "#upper = corr_matrix.where(np.triu(np.ones(corr_matrix.shape), k=1).astype(bool))\n",
    "# Find index of columns with correlation greater than 0.95\n",
    "#to_drop = [column for column in upper.columns if any(upper[column] > 0.95)]\n",
    "# drop the columns\n",
    "#data.drop(to_drop, axis=1, inplace=True)"
   ]
  },
  {
   "cell_type": "code",
   "execution_count": 132,
   "id": "e11f4577",
   "metadata": {},
   "outputs": [],
   "source": [
    "#For class imbalance\n",
    "#. Oversampling\n",
    "#print(\"Before OverSampling, counts of label '1': {}\".format(sum(train_labels == 1)))\n",
    "#print(\"Before OverSampling, counts of label '0': {} \\n\".format(sum(train_labels== 0)))\n",
    "\n",
    "#from imblearn.over_sampling import SMOTE\n",
    "#sm = SMOTE(random_state = 2)\n",
    "#train_features, train_labels = sm.fit_resample(train_features, train_labels.ravel())\n",
    "#print('After OverSampling, the shape of train_X: {}'.format(train_features.shape))\n",
    "#print('After OverSampling, the shape of train_y: {} \\n'.format(train_labels.shape))\n",
    "  \n",
    "#print(\"After OverSampling, counts of label '1': {}\".format(sum(train_labels == 1)))\n",
    "#print(\"After OverSampling, counts of label '0': {}\".format(sum(train_labels == 0)))\n",
    "#2. UnderSampling\n",
    "#print(\"Before UnderSampling, counts of label '1': {}\".format(sum(train_labels == 1)))\n",
    "#print(\"Before UnderSampling, counts of label '0': {} \\n\".format(sum(train_labels== 0)))\n",
    "\n",
    "#from imblearn.under_sampling import NearMiss\n",
    "#nr = NearMiss()  \n",
    "#print(\"Frauds in train before undersamling\", np.sum(train_labels))\n",
    "#train_features,train_labels = nr.fit_resample(train_features, train_labels.ravel())\n",
    "#print(\"Frauds in train after undersampling\", np.sum(train_labels))\n",
    "#print('After Undersampling, the shape of train_X: {}'.format(train_features.shape))\n",
    "#print('After Undersampling, the shape of train_y: {} \\n'.format(train_labels.shape))\n",
    "#print(\"After Undersampling, counts of label '1': {}\".format(sum(train_labels == 1)))\n",
    "#print(\"After Undersampling, counts of label '0': {}\".format(sum(train_labels == 0)))   \n",
    "    "
   ]
  },
  {
   "cell_type": "code",
   "execution_count": null,
   "id": "d5a81555",
   "metadata": {},
   "outputs": [],
   "source": []
  },
  {
   "cell_type": "code",
   "execution_count": null,
   "id": "24da5e10",
   "metadata": {},
   "outputs": [],
   "source": []
  },
  {
   "cell_type": "code",
   "execution_count": 133,
   "id": "834745a1",
   "metadata": {},
   "outputs": [
    {
     "name": "stdout",
     "output_type": "stream",
     "text": [
      "Number of normal examples = 2142\n",
      "Number of fraud examples = 28\n",
      "\n",
      "normal to fraud ratio in the whole data = 76.5\n",
      "number of examples =  56\n",
      "number of features =  6\n"
     ]
    }
   ],
   "source": [
    "#CHECK RATIO\n",
    "normal = data[data.manipulated==0] \n",
    "fraud = data[data.manipulated==1]  \n",
    "\n",
    "num_normal = normal.shape[0] \n",
    "num_fraud = fraud.shape[0]\n",
    "\n",
    "print(f\"Number of normal examples = {num_normal}\")\n",
    "print(f\"Number of fraud examples = {num_fraud}\\n\")\n",
    "\n",
    "ratio = num_normal/num_fraud\n",
    "\n",
    "print(f\"normal to fraud ratio in the whole data = {round(ratio,2)}\")\n",
    "\n",
    "# UNDERSAMPLING \n",
    "normal_fraud_ratio = 1                                      \n",
    "normal_sample = normal.sample(normal_fraud_ratio*num_fraud) \n",
    "\n",
    "\n",
    "\n",
    "sample = pd.concat([fraud, normal_sample], axis=0)  \n",
    "\n",
    "\n",
    "for i in range(100):\n",
    "    sample = np.random.permutation(sample)                  \n",
    "\n",
    "\n",
    "\n",
    "X, y = sample[:, :-1], sample[:, -1]\n",
    "\n",
    "num_examples, num_features = X.shape   \n",
    "print(\"number of examples = \", num_examples)\n",
    "print(\"number of features = \", num_features)\n"
   ]
  },
  {
   "cell_type": "code",
   "execution_count": 134,
   "id": "beb2a7ba",
   "metadata": {},
   "outputs": [],
   "source": [
    "f= X\n",
    "l= y\n",
    "features = f\n",
    "labels = l"
   ]
  },
  {
   "cell_type": "code",
   "execution_count": 135,
   "id": "06d2f6c5",
   "metadata": {},
   "outputs": [],
   "source": [
    "#NORMALIZIG\n",
    "from sklearn.preprocessing import MinMaxScaler\n",
    "\n",
    "features = MinMaxScaler().fit_transform(features)"
   ]
  },
  {
   "cell_type": "code",
   "execution_count": 136,
   "id": "29914453",
   "metadata": {},
   "outputs": [
    {
     "data": {
      "text/plain": [
       "<Axes: >"
      ]
     },
     "execution_count": 136,
     "metadata": {},
     "output_type": "execute_result"
    },
    {
     "data": {
      "image/png": "[encoded data removed]",
      "text/plain": [
       "<Figure size 600x600 with 1 Axes>"
      ]
     },
     "metadata": {},
     "output_type": "display_data"
    }
   ],
   "source": [
    "# REDUCTION FOR FEATURES \n",
    "from sklearn.decomposition import PCA\n",
    "\n",
    "features = PCA(n_components=2).fit_transform(features)\n",
    "\n",
    "plt.rcParams[\"figure.figsize\"] = (6, 6)\n",
    "sns.scatterplot(x=features[:, 0], y=features[:, 1], hue=labels, palette=\"tab10\")"
   ]
  },
  {
   "cell_type": "code",
   "execution_count": 137,
   "id": "26276c89",
   "metadata": {},
   "outputs": [],
   "source": [
    "# For spliting data\n",
    "from sklearn.model_selection import train_test_split\n",
    "\n",
    "train_features, test_features, train_labels, test_labels = train_test_split(\n",
    "    features, labels, train_size=0.8)"
   ]
  },
  {
   "cell_type": "code",
   "execution_count": 138,
   "id": "68e5a6c0",
   "metadata": {},
   "outputs": [
    {
     "data": {
      "text/plain": [
       "array([0., 1., 1., 1., 1., 1., 0., 1., 0., 1., 1., 0.])"
      ]
     },
     "execution_count": 138,
     "metadata": {},
     "output_type": "execute_result"
    }
   ],
   "source": [
    "test_labels"
   ]
  },
  {
   "cell_type": "code",
   "execution_count": null,
   "id": "f288b71c",
   "metadata": {},
   "outputs": [],
   "source": []
  },
  {
   "cell_type": "code",
   "execution_count": null,
   "id": "5d26b93b",
   "metadata": {},
   "outputs": [],
   "source": []
  },
  {
   "cell_type": "code",
   "execution_count": null,
   "id": "867f5c5f",
   "metadata": {},
   "outputs": [],
   "source": []
  },
  {
   "cell_type": "code",
   "execution_count": 139,
   "id": "28855657",
   "metadata": {},
   "outputs": [],
   "source": [
    "# For Amplitude Encoding\n",
    "#num of qubits should be in power of 2 of features \n",
    "def predict(theta, data):\n",
    "    outputs = [] # storing the measured value \n",
    "    for x in data:\n",
    "        data_register = qk.QuantumRegister(1) \n",
    "        classical_register = qk.ClassicalRegister(1)\n",
    "        qc = qk.QuantumCircuit(data_register, classical_register)\n",
    "        norm=np.linalg.norm(x)      \n",
    "        SP=StatePreparation(x/norm)\n",
    "        qc.append(SP, [0])\n",
    "        qc.decompose(reps = 4)\n",
    "        qc.ry(theta[0], data_register[0])\n",
    "        qc.ry(theta[1], data_register[0])\n",
    "        qc.ry(theta[2], data_register[0])\n",
    "        qc.ry(theta[3], data_register[0])\n",
    "        qc.ry(theta[4], data_register[0])\n",
    "        qc.ry(theta[5], data_register[0])\n",
    "        qc.ry(theta[6], data_register[0])\n",
    "        qc.ry(theta[7], data_register[0])\n",
    "        qc.ry(theta[8], data_register[0])\n",
    "        qc.measure(data_register[-1],classical_register[0]) # measuring the qubut in 1> ket state \n",
    "        shots=1000\n",
    "        job = qk.execute(qc,\n",
    "                backend=qk.Aer.get_backend('qasm_simulator'),\n",
    "                shots=shots,\n",
    "                seed_simulator=42\n",
    "                )\n",
    "        results = job.result()\n",
    "        results = results.get_counts(qc)\n",
    "        prediction = 0\n",
    "        for key,value in results.items():\n",
    "            if key == '1': \n",
    "                prediction += value      \n",
    "        prediction/=shots # probability that this qubit is in the 1> state \n",
    "        outputs.append(prediction)\n",
    "    return np.array(outputs)"
   ]
  },
  {
   "cell_type": "code",
   "execution_count": null,
   "id": "d48d0f8e",
   "metadata": {
    "scrolled": true
   },
   "outputs": [],
   "source": []
  },
  {
   "cell_type": "code",
   "execution_count": 140,
   "id": "1c7ba4d5",
   "metadata": {},
   "outputs": [
    {
     "data": {
      "text/plain": [
       "array([1.79808103, 2.21223421, 3.32121155, 5.61520677, 5.61696899,\n",
       "       2.96224005, 3.87386592, 2.29004764, 4.30082756])"
      ]
     },
     "execution_count": 140,
     "metadata": {},
     "output_type": "execute_result"
    }
   ],
   "source": [
    "n_params = 9 # no of parameters for 'ansatz'\n",
    "theta = 2*np.pi*np.random.uniform(size=n_params)\n",
    "theta"
   ]
  },
  {
   "cell_type": "code",
   "execution_count": 141,
   "id": "dae7b0e8",
   "metadata": {},
   "outputs": [
    {
     "name": "stdout",
     "output_type": "stream",
     "text": [
      "[0.178 0.769 0.109 0.523 0.543 0.365 0.031 0.693 0.39  0.354 0.018 0.51\n",
      " 0.251 0.449 0.78  0.179 0.292 0.156 0.645 0.073 0.584 0.453 0.569 0.479\n",
      " 0.527 0.198 0.365 0.477 0.229 0.387 0.215 0.006 0.735 0.233 0.202 0.35\n",
      " 0.955 0.45  0.714 0.384 0.453 0.709 0.128 0.514]\n"
     ]
    }
   ],
   "source": [
    "lr = 1 # learning rate\n",
    "epochs = 2 # no of itreations\n",
    "loss = []\n",
    "for i in range(epochs):\n",
    "    y_pred = predict(theta, train_features)\n",
    "    n_samples = train_features.shape[0] # no of samples in features \n",
    "    n_theta = theta.shape[0]            # no of parameters \n",
    "    shift = np.pi/2                     # for shifting parameter by a value of np.pi/2\n",
    "    grad = np.zeros((n_theta, n_samples))             # empty grad array for features length and theta length\n",
    "    g = np.zeros(len(theta))\n",
    "    for i in range(n_theta):\n",
    "       \n",
    "        shift_vect = np.array([shift if j==i else 0 for j in range(n_theta)]) \n",
    "        shift_right = theta + shift_vect\n",
    "        shift_left = theta - shift_vect\n",
    "        \n",
    "        expectation_right = predict(shift_right, train_features)\n",
    "        expectation_left = predict(shift_left, train_features)\n",
    "\n",
    "        grad[i] = 0.5*(expectation_right - expectation_left)\n",
    "        #parameter shift rule\n",
    "        \n",
    "    \n",
    "    g = g +  grad.dot(y_pred - train_labels)\n",
    "# average derivative of the loss with respect to the parameters \n",
    "    g = g/len(train_labels)\n",
    "    loss += [(((np.round(y_pred).astype(int)) - train_labels)**2)/n_samples]\n",
    "    theta= theta - lr*g\n",
    "    #accuracy = np.mean(np.round(y_pred).astype(int) == train_labels)\n",
    "print (y_pred)"
   ]
  },
  {
   "cell_type": "code",
   "execution_count": 142,
   "id": "46ffb4aa",
   "metadata": {},
   "outputs": [
    {
     "data": {
      "text/plain": [
       "array([0, 1, 0, 1, 1, 0, 0, 1, 0, 0, 0, 1, 0, 0, 1, 0, 0, 0, 1, 0, 1, 0,\n",
       "       1, 0, 1, 0, 0, 0, 0, 0, 0, 0, 1, 0, 0, 0, 1, 0, 1, 0, 0, 1, 0, 1])"
      ]
     },
     "execution_count": 142,
     "metadata": {},
     "output_type": "execute_result"
    }
   ],
   "source": [
    "y_train_pred = np.round(y_pred).astype(int)\n",
    "y_train_pred"
   ]
  },
  {
   "cell_type": "code",
   "execution_count": 143,
   "id": "9dfaf2b4",
   "metadata": {},
   "outputs": [
    {
     "name": "stdout",
     "output_type": "stream",
     "text": [
      "[0.957 0.796 0.993 0.973 0.741 0.735 0.892 0.759 0.987 0.774 0.989 0.413]\n"
     ]
    }
   ],
   "source": [
    "lr = 1\n",
    "epochs = 2\n",
    "loss_1 = []\n",
    "for i in range(epochs):\n",
    "    y_pred = predict(theta, test_features)\n",
    "    n_samples = test_features.shape[0]\n",
    "    n_theta = theta.shape[0]\n",
    "    shift = np.pi/2\n",
    "    grad = np.zeros((n_theta, n_samples))             # empty grad array of features length and theta length\n",
    "    g = np.zeros(len(theta))\n",
    "    \n",
    "    for i in range(n_theta):\n",
    "        #parameter shift rule\n",
    "        shift_vect = np.array([shift if j==i else 0 for j in range(n_theta)])\n",
    "        shift_right = theta + shift_vect\n",
    "        shift_left = theta - shift_vect\n",
    "        \n",
    "        expectation_right = predict(shift_right, test_features)\n",
    "        expectation_left = predict(shift_left, test_features)\n",
    "\n",
    "        grad[i] = 0.5*(expectation_right - expectation_left)\n",
    "\n",
    "    g = g +  grad.dot(y_pred - test_labels)\n",
    "    g = g/len(test_labels)\n",
    "    loss_1 += [(((np.round(y_pred).astype(int)) - test_labels)**2)/n_samples]\n",
    "    theta= theta - lr*g\n",
    "    #accuracy = np.mean(np.round(y_pred).astype(int) == test_labels)\n",
    "print (y_pred)"
   ]
  },
  {
   "cell_type": "code",
   "execution_count": 144,
   "id": "1fa81fed",
   "metadata": {},
   "outputs": [
    {
     "data": {
      "text/plain": [
       "array([1, 1, 1, 1, 1, 1, 1, 1, 1, 1, 1, 0])"
      ]
     },
     "execution_count": 144,
     "metadata": {},
     "output_type": "execute_result"
    }
   ],
   "source": [
    "y_test_pred = np.round(y_pred).astype(int)\n",
    "y_test_pred"
   ]
  },
  {
   "cell_type": "code",
   "execution_count": 145,
   "id": "988582c4",
   "metadata": {},
   "outputs": [
    {
     "name": "stdout",
     "output_type": "stream",
     "text": [
      "[[16  8]\n",
      " [13  7]] = confusion matrix for train set \n",
      "\n",
      "[[1 3]\n",
      " [0 8]] = confusion matrix for test set \n",
      " \n",
      "0.62 = roc_auc_score for test set \n",
      "\n"
     ]
    }
   ],
   "source": [
    "print(confusion_matrix(train_labels, y_train_pred), \"= confusion matrix for train set \\n\")\n",
    "print(confusion_matrix(test_labels, y_test_pred), \"= confusion matrix for test set \\n \")\n",
    "print(round(roc_auc_score(test_labels, y_test_pred),2), \"= roc_auc_score for test set \\n\")"
   ]
  },
  {
   "cell_type": "code",
   "execution_count": 146,
   "id": "cf50f884",
   "metadata": {},
   "outputs": [
    {
     "name": "stdout",
     "output_type": "stream",
     "text": [
      "              precision    recall  f1-score   support\n",
      "\n",
      "         0.0       0.55      0.67      0.60        24\n",
      "         1.0       0.47      0.35      0.40        20\n",
      "\n",
      "    accuracy                           0.52        44\n",
      "   macro avg       0.51      0.51      0.50        44\n",
      "weighted avg       0.51      0.52      0.51        44\n",
      "\n"
     ]
    }
   ],
   "source": [
    "print(classification_report(train_labels, y_train_pred))"
   ]
  },
  {
   "cell_type": "code",
   "execution_count": 147,
   "id": "3a8d38e4",
   "metadata": {},
   "outputs": [
    {
     "name": "stdout",
     "output_type": "stream",
     "text": [
      "              precision    recall  f1-score   support\n",
      "\n",
      "         0.0       1.00      0.25      0.40         4\n",
      "         1.0       0.73      1.00      0.84         8\n",
      "\n",
      "    accuracy                           0.75        12\n",
      "   macro avg       0.86      0.62      0.62        12\n",
      "weighted avg       0.82      0.75      0.69        12\n",
      "\n"
     ]
    }
   ],
   "source": [
    "print(classification_report(test_labels, y_test_pred))"
   ]
  },
  {
   "cell_type": "code",
   "execution_count": null,
   "id": "e27a6813",
   "metadata": {},
   "outputs": [],
   "source": [
    "#I have taken help from following public availble repository \n",
    "#1.Kristian Wold and his Master Thesis https://github.com/KristianWold/Master-Thesis\n",
    "#2.https://github.com/clnrp/quantum_machine_learning/blob/master/qnn_logicqubit_iris.ipynb\n",
    "#3.https://github.com/ArunSehrawat/Credit_Card_Fraud_Detection_with_Machine_Learning\n"
   ]
  }
 ],
 "metadata": {
  "kernelspec": {
   "display_name": "Python 3 (ipykernel)",
   "language": "python",
   "name": "python3"
  },
  "language_info": {
   "codemirror_mode": {
    "name": "ipython",
    "version": 3
   },
   "file_extension": ".py",
   "mimetype": "text/x-python",
   "name": "python",
   "nbconvert_exporter": "python",
   "pygments_lexer": "ipython3",
   "version": "3.11.4"
  }
 },
 "nbformat": 4,
 "nbformat_minor": 5
}
